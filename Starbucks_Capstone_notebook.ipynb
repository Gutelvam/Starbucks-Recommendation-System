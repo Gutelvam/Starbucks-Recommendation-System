{
 "cells": [
  {
   "cell_type": "markdown",
   "metadata": {},
   "source": [
    "# Starbucks Capstone Challenge\n",
    "\n",
    "### Introduction\n",
    "\n",
    "This data set contains simulated data that mimics customer behavior on the Starbucks rewards mobile app. Once every few days, Starbucks sends out an offer to users of the mobile app. An offer can be merely an advertisement for a drink or an actual offer such as a discount or BOGO (buy one get one free). Some users might not receive any offer during certain weeks. \n",
    "\n",
    "Not all users receive the same offer, and that is the challenge to solve with this data set.\n",
    "\n",
    "Your task is to combine transaction, demographic and offer data to determine which demographic groups respond best to which offer type. This data set is a simplified version of the real Starbucks app because the underlying simulator only has one product whereas Starbucks actually sells dozens of products.\n",
    "\n",
    "Every offer has a validity period before the offer expires. As an example, a BOGO offer might be valid for only 5 days. You'll see in the data set that informational offers have a validity period even though these ads are merely providing information about a product; for example, if an informational offer has 7 days of validity, you can assume the customer is feeling the influence of the offer for 7 days after receiving the advertisement.\n",
    "\n",
    "You'll be given transactional data showing user purchases made on the app including the timestamp of purchase and the amount of money spent on a purchase. This transactional data also has a record for each offer that a user receives as well as a record for when a user actually views the offer. There are also records for when a user completes an offer. \n",
    "\n",
    "Keep in mind as well that someone using the app might make a purchase through the app without having received an offer or seen an offer.\n",
    "\n",
    "### Example\n",
    "\n",
    "To give an example, a user could receive a discount offer buy 10 dollars get 2 off on Monday. The offer is valid for 10 days from receipt. If the customer accumulates at least 10 dollars in purchases during the validity period, the customer completes the offer.\n",
    "\n",
    "However, there are a few things to watch out for in this data set. Customers do not opt into the offers that they receive; in other words, a user can receive an offer, never actually view the offer, and still complete the offer. For example, a user might receive the \"buy 10 dollars get 2 dollars off offer\", but the user never opens the offer during the 10 day validity period. The customer spends 15 dollars during those ten days. There will be an offer completion record in the data set; however, the customer was not influenced by the offer because the customer never viewed the offer.\n",
    "\n",
    "### Cleaning\n",
    "\n",
    "This makes data cleaning especially important and tricky.\n",
    "\n",
    "You'll also want to take into account that some demographic groups will make purchases even if they don't receive an offer. From a business perspective, if a customer is going to make a 10 dollar purchase without an offer anyway, you wouldn't want to send a buy 10 dollars get 2 dollars off offer. You'll want to try to assess what a certain demographic group will buy when not receiving any offers.\n",
    "\n",
    "### Final Advice\n",
    "\n",
    "Because this is a capstone project, you are free to analyze the data any way you see fit. For example, you could build a machine learning model that predicts how much someone will spend based on demographics and offer type. Or you could build a model that predicts whether or not someone will respond to an offer. Or, you don't need to build a machine learning model at all. You could develop a set of heuristics that determine what offer you should send to each customer (i.e., 75 percent of women customers who were 35 years old responded to offer A vs 40 percent from the same demographic to offer B, so send offer A)."
   ]
  },
  {
   "cell_type": "markdown",
   "metadata": {},
   "source": [
    "# Data Sets\n",
    "\n",
    "The data is contained in three files:\n",
    "\n",
    "* portfolio.json - containing offer ids and meta data about each offer (duration, type, etc.)\n",
    "* profile.json - demographic data for each customer\n",
    "* transcript.json - records for transactions, offers received, offers viewed, and offers completed\n",
    "\n",
    "Here is the schema and explanation of each variable in the files:\n",
    "\n",
    "**portfolio.json**\n",
    "* id (string) - offer id\n",
    "* offer_type (string) - type of offer ie BOGO, discount, informational\n",
    "* difficulty (int) - minimum required spend to complete an offer\n",
    "* reward (int) - reward given for completing an offer\n",
    "* duration (int) - time for offer to be open, in days\n",
    "* channels (list of strings)\n",
    "\n",
    "**profile.json**\n",
    "* age (int) - age of the customer \n",
    "* became_member_on (int) - date when customer created an app account\n",
    "* gender (str) - gender of the customer (note some entries contain 'O' for other rather than M or F)\n",
    "* id (str) - customer id\n",
    "* income (float) - customer's income\n",
    "\n",
    "**transcript.json**\n",
    "* event (str) - record description (ie transaction, offer received, offer viewed, etc.)\n",
    "* person (str) - customer id\n",
    "* time (int) - time in hours since start of test. The data begins at time t=0\n",
    "* value - (dict of strings) - either an offer id or transaction amount depending on the record\n",
    "\n",
    "**Note:** If you are using the workspace, you will need to go to the terminal and run the command `conda update pandas` before reading in the files. This is because the version of pandas in the workspace cannot read in the transcript.json file correctly, but the newest version of pandas can. You can access the termnal from the orange icon in the top left of this notebook.  \n",
    "\n",
    "You can see how to access the terminal and how the install works using the two images below.  First you need to access the terminal:\n",
    "\n",
    "<img src=\"pic1.png\"/>\n",
    "\n",
    "Then you will want to run the above command:\n",
    "\n",
    "<img src=\"pic2.png\"/>\n",
    "\n",
    "Finally, when you enter back into the notebook (use the jupyter icon again), you should be able to run the below cell without any errors."
   ]
  },
  {
   "cell_type": "code",
   "execution_count": 2,
   "metadata": {},
   "outputs": [
    {
     "name": "stdout",
     "output_type": "stream",
     "text": [
      "Requirement already satisfied: scikit-surprise in c:\\users\\guto\\anaconda3\\lib\\site-packages (1.1.1)\n",
      "Requirement already satisfied: joblib>=0.11 in c:\\users\\guto\\anaconda3\\lib\\site-packages (from scikit-surprise) (0.14.1)\n",
      "Requirement already satisfied: numpy>=1.11.2 in c:\\users\\guto\\anaconda3\\lib\\site-packages (from scikit-surprise) (1.19.0)\n",
      "Requirement already satisfied: scipy>=1.0.0 in c:\\users\\guto\\anaconda3\\lib\\site-packages (from scikit-surprise) (1.4.1)\n",
      "Requirement already satisfied: six>=1.10.0 in c:\\users\\guto\\appdata\\roaming\\python\\python37\\site-packages (from scikit-surprise) (1.12.0)\n"
     ]
    }
   ],
   "source": [
    "!pip install scikit-surprise"
   ]
  },
  {
   "cell_type": "code",
   "execution_count": 3,
   "metadata": {},
   "outputs": [
    {
     "name": "stdout",
     "output_type": "stream",
     "text": [
      "Requirement already satisfied: tqdm in c:\\users\\guto\\anaconda3\\lib\\site-packages (4.56.0)\n"
     ]
    }
   ],
   "source": [
    "!pip install tqdm"
   ]
  },
  {
   "cell_type": "code",
   "execution_count": 4,
   "metadata": {},
   "outputs": [
    {
     "name": "stdout",
     "output_type": "stream",
     "text": [
      "Requirement already satisfied: tqdm in c:\\users\\guto\\anaconda3\\lib\\site-packages (4.56.0)\n"
     ]
    }
   ],
   "source": [
    "!pip install tqdm --upgrade"
   ]
  },
  {
   "cell_type": "code",
   "execution_count": 5,
   "metadata": {},
   "outputs": [],
   "source": [
    "import math\n",
    "import json\n",
    "import pickle\n",
    "import datetime\n",
    "from tqdm.notebook import tqdm_notebook\n",
    "\n",
    "\n",
    "import pandas as pd\n",
    "from pandas.io.json import json_normalize\n",
    "import numpy as np\n",
    "import seaborn as sns\n",
    "import matplotlib.pyplot as plt\n",
    "from sklearn import preprocessing\n",
    "%matplotlib inline\n",
    "\n",
    "# read in the json files\n",
    "portfolio = pd.read_json('data/portfolio.json', orient='records', lines=True)\n",
    "profile = pd.read_json('data/profile.json', orient='records', lines=True)\n",
    "transcript = pd.read_json('data/transcript.json', orient='records', lines=True)"
   ]
  },
  {
   "cell_type": "markdown",
   "metadata": {},
   "source": [
    "# 1 - Step\n",
    "\n",
    "## Defining business problem\n",
    "\n",
    "***The Main goal is to Build a Recommendation System that sugest offers wich can have a positive response of users.***"
   ]
  },
  {
   "cell_type": "markdown",
   "metadata": {},
   "source": [
    "# 2 - Step\n",
    "\n",
    "## Defining question to be asnwers in Data Analysis\n",
    "\n",
    "- Which genre is more likely to complete an offer?\n",
    "- Which gender has highest salaries? \n",
    "- Which kind of offer has more duration?\n",
    "- How many users has completed offers?"
   ]
  },
  {
   "cell_type": "markdown",
   "metadata": {},
   "source": [
    "# 3 - Step\n",
    "\n",
    "## Exploratory Data Cleaning and Analysis"
   ]
  },
  {
   "cell_type": "code",
   "execution_count": 6,
   "metadata": {},
   "outputs": [
    {
     "name": "stdout",
     "output_type": "stream",
     "text": [
      "Portfolio shape: (10, 6)\n",
      "Profile shape: (17000, 5)\n",
      "Transcript shape: (306534, 4)\n"
     ]
    }
   ],
   "source": [
    "# looking for size of data set\n",
    "print(f'Portfolio shape: {portfolio.shape}')  \n",
    "print(f'Profile shape: {profile.shape}')  \n",
    "print(f'Transcript shape: {transcript.shape}')"
   ]
  },
  {
   "cell_type": "code",
   "execution_count": 7,
   "metadata": {},
   "outputs": [],
   "source": [
    "def missing_values(df):\n",
    "    '''\n",
    "    INPUT:\n",
    "    df - A Pandas Dataframe\n",
    "    \n",
    "    OUTPUT:\n",
    "    df_report - A pandas data frame containing Null Percentage and Column Types\n",
    "    \n",
    "    '''\n",
    "    df_report = pd.DataFrame({'columns': df.columns,\n",
    "                        'types': df.dtypes,\n",
    "                        'missing_percentage': df.isna().mean()*100})\n",
    "    return df_report.set_index('columns')"
   ]
  },
  {
   "cell_type": "markdown",
   "metadata": {},
   "source": [
    "# Handling Missing Data"
   ]
  },
  {
   "cell_type": "markdown",
   "metadata": {},
   "source": [
    "**looking for any potential missing values in Portfolio  dataframe**"
   ]
  },
  {
   "cell_type": "code",
   "execution_count": 8,
   "metadata": {},
   "outputs": [
    {
     "data": {
      "text/html": [
       "<div>\n",
       "<style scoped>\n",
       "    .dataframe tbody tr th:only-of-type {\n",
       "        vertical-align: middle;\n",
       "    }\n",
       "\n",
       "    .dataframe tbody tr th {\n",
       "        vertical-align: top;\n",
       "    }\n",
       "\n",
       "    .dataframe thead th {\n",
       "        text-align: right;\n",
       "    }\n",
       "</style>\n",
       "<table border=\"1\" class=\"dataframe\">\n",
       "  <thead>\n",
       "    <tr style=\"text-align: right;\">\n",
       "      <th></th>\n",
       "      <th>types</th>\n",
       "      <th>missing_percentage</th>\n",
       "    </tr>\n",
       "    <tr>\n",
       "      <th>columns</th>\n",
       "      <th></th>\n",
       "      <th></th>\n",
       "    </tr>\n",
       "  </thead>\n",
       "  <tbody>\n",
       "    <tr>\n",
       "      <th>channels</th>\n",
       "      <td>object</td>\n",
       "      <td>0.0</td>\n",
       "    </tr>\n",
       "    <tr>\n",
       "      <th>difficulty</th>\n",
       "      <td>int64</td>\n",
       "      <td>0.0</td>\n",
       "    </tr>\n",
       "    <tr>\n",
       "      <th>duration</th>\n",
       "      <td>int64</td>\n",
       "      <td>0.0</td>\n",
       "    </tr>\n",
       "    <tr>\n",
       "      <th>id</th>\n",
       "      <td>object</td>\n",
       "      <td>0.0</td>\n",
       "    </tr>\n",
       "    <tr>\n",
       "      <th>offer_type</th>\n",
       "      <td>object</td>\n",
       "      <td>0.0</td>\n",
       "    </tr>\n",
       "    <tr>\n",
       "      <th>reward</th>\n",
       "      <td>int64</td>\n",
       "      <td>0.0</td>\n",
       "    </tr>\n",
       "  </tbody>\n",
       "</table>\n",
       "</div>"
      ],
      "text/plain": [
       "             types  missing_percentage\n",
       "columns                               \n",
       "channels    object                 0.0\n",
       "difficulty   int64                 0.0\n",
       "duration     int64                 0.0\n",
       "id          object                 0.0\n",
       "offer_type  object                 0.0\n",
       "reward       int64                 0.0"
      ]
     },
     "execution_count": 8,
     "metadata": {},
     "output_type": "execute_result"
    }
   ],
   "source": [
    "missing_values(portfolio)"
   ]
  },
  {
   "cell_type": "markdown",
   "metadata": {},
   "source": [
    "**looking for any potential missing values in Transcript  dataframe**"
   ]
  },
  {
   "cell_type": "code",
   "execution_count": 9,
   "metadata": {},
   "outputs": [
    {
     "data": {
      "text/html": [
       "<div>\n",
       "<style scoped>\n",
       "    .dataframe tbody tr th:only-of-type {\n",
       "        vertical-align: middle;\n",
       "    }\n",
       "\n",
       "    .dataframe tbody tr th {\n",
       "        vertical-align: top;\n",
       "    }\n",
       "\n",
       "    .dataframe thead th {\n",
       "        text-align: right;\n",
       "    }\n",
       "</style>\n",
       "<table border=\"1\" class=\"dataframe\">\n",
       "  <thead>\n",
       "    <tr style=\"text-align: right;\">\n",
       "      <th></th>\n",
       "      <th>types</th>\n",
       "      <th>missing_percentage</th>\n",
       "    </tr>\n",
       "    <tr>\n",
       "      <th>columns</th>\n",
       "      <th></th>\n",
       "      <th></th>\n",
       "    </tr>\n",
       "  </thead>\n",
       "  <tbody>\n",
       "    <tr>\n",
       "      <th>event</th>\n",
       "      <td>object</td>\n",
       "      <td>0.0</td>\n",
       "    </tr>\n",
       "    <tr>\n",
       "      <th>person</th>\n",
       "      <td>object</td>\n",
       "      <td>0.0</td>\n",
       "    </tr>\n",
       "    <tr>\n",
       "      <th>time</th>\n",
       "      <td>int64</td>\n",
       "      <td>0.0</td>\n",
       "    </tr>\n",
       "    <tr>\n",
       "      <th>value</th>\n",
       "      <td>object</td>\n",
       "      <td>0.0</td>\n",
       "    </tr>\n",
       "  </tbody>\n",
       "</table>\n",
       "</div>"
      ],
      "text/plain": [
       "          types  missing_percentage\n",
       "columns                            \n",
       "event    object                 0.0\n",
       "person   object                 0.0\n",
       "time      int64                 0.0\n",
       "value    object                 0.0"
      ]
     },
     "execution_count": 9,
     "metadata": {},
     "output_type": "execute_result"
    }
   ],
   "source": [
    "missing_values(transcript)"
   ]
  },
  {
   "cell_type": "markdown",
   "metadata": {},
   "source": [
    "**looking for any potential missing values in Profile  dataframe**"
   ]
  },
  {
   "cell_type": "code",
   "execution_count": 10,
   "metadata": {},
   "outputs": [
    {
     "data": {
      "text/html": [
       "<div>\n",
       "<style scoped>\n",
       "    .dataframe tbody tr th:only-of-type {\n",
       "        vertical-align: middle;\n",
       "    }\n",
       "\n",
       "    .dataframe tbody tr th {\n",
       "        vertical-align: top;\n",
       "    }\n",
       "\n",
       "    .dataframe thead th {\n",
       "        text-align: right;\n",
       "    }\n",
       "</style>\n",
       "<table border=\"1\" class=\"dataframe\">\n",
       "  <thead>\n",
       "    <tr style=\"text-align: right;\">\n",
       "      <th></th>\n",
       "      <th>types</th>\n",
       "      <th>missing_percentage</th>\n",
       "    </tr>\n",
       "    <tr>\n",
       "      <th>columns</th>\n",
       "      <th></th>\n",
       "      <th></th>\n",
       "    </tr>\n",
       "  </thead>\n",
       "  <tbody>\n",
       "    <tr>\n",
       "      <th>age</th>\n",
       "      <td>int64</td>\n",
       "      <td>0.000000</td>\n",
       "    </tr>\n",
       "    <tr>\n",
       "      <th>became_member_on</th>\n",
       "      <td>int64</td>\n",
       "      <td>0.000000</td>\n",
       "    </tr>\n",
       "    <tr>\n",
       "      <th>gender</th>\n",
       "      <td>object</td>\n",
       "      <td>12.794118</td>\n",
       "    </tr>\n",
       "    <tr>\n",
       "      <th>id</th>\n",
       "      <td>object</td>\n",
       "      <td>0.000000</td>\n",
       "    </tr>\n",
       "    <tr>\n",
       "      <th>income</th>\n",
       "      <td>float64</td>\n",
       "      <td>12.794118</td>\n",
       "    </tr>\n",
       "  </tbody>\n",
       "</table>\n",
       "</div>"
      ],
      "text/plain": [
       "                    types  missing_percentage\n",
       "columns                                      \n",
       "age                 int64            0.000000\n",
       "became_member_on    int64            0.000000\n",
       "gender             object           12.794118\n",
       "id                 object            0.000000\n",
       "income            float64           12.794118"
      ]
     },
     "execution_count": 10,
     "metadata": {},
     "output_type": "execute_result"
    }
   ],
   "source": [
    "missing_values(profile)"
   ]
  },
  {
   "cell_type": "code",
   "execution_count": 11,
   "metadata": {},
   "outputs": [
    {
     "data": {
      "text/html": [
       "<div>\n",
       "<style scoped>\n",
       "    .dataframe tbody tr th:only-of-type {\n",
       "        vertical-align: middle;\n",
       "    }\n",
       "\n",
       "    .dataframe tbody tr th {\n",
       "        vertical-align: top;\n",
       "    }\n",
       "\n",
       "    .dataframe thead th {\n",
       "        text-align: right;\n",
       "    }\n",
       "</style>\n",
       "<table border=\"1\" class=\"dataframe\">\n",
       "  <thead>\n",
       "    <tr style=\"text-align: right;\">\n",
       "      <th></th>\n",
       "      <th>age</th>\n",
       "      <th>became_member_on</th>\n",
       "      <th>income</th>\n",
       "    </tr>\n",
       "  </thead>\n",
       "  <tbody>\n",
       "    <tr>\n",
       "      <th>count</th>\n",
       "      <td>2175.0</td>\n",
       "      <td>2.175000e+03</td>\n",
       "      <td>0.0</td>\n",
       "    </tr>\n",
       "    <tr>\n",
       "      <th>mean</th>\n",
       "      <td>118.0</td>\n",
       "      <td>2.016804e+07</td>\n",
       "      <td>NaN</td>\n",
       "    </tr>\n",
       "    <tr>\n",
       "      <th>std</th>\n",
       "      <td>0.0</td>\n",
       "      <td>1.009105e+04</td>\n",
       "      <td>NaN</td>\n",
       "    </tr>\n",
       "    <tr>\n",
       "      <th>min</th>\n",
       "      <td>118.0</td>\n",
       "      <td>2.013080e+07</td>\n",
       "      <td>NaN</td>\n",
       "    </tr>\n",
       "    <tr>\n",
       "      <th>25%</th>\n",
       "      <td>118.0</td>\n",
       "      <td>2.016070e+07</td>\n",
       "      <td>NaN</td>\n",
       "    </tr>\n",
       "    <tr>\n",
       "      <th>50%</th>\n",
       "      <td>118.0</td>\n",
       "      <td>2.017073e+07</td>\n",
       "      <td>NaN</td>\n",
       "    </tr>\n",
       "    <tr>\n",
       "      <th>75%</th>\n",
       "      <td>118.0</td>\n",
       "      <td>2.017123e+07</td>\n",
       "      <td>NaN</td>\n",
       "    </tr>\n",
       "    <tr>\n",
       "      <th>max</th>\n",
       "      <td>118.0</td>\n",
       "      <td>2.018073e+07</td>\n",
       "      <td>NaN</td>\n",
       "    </tr>\n",
       "  </tbody>\n",
       "</table>\n",
       "</div>"
      ],
      "text/plain": [
       "          age  became_member_on  income\n",
       "count  2175.0      2.175000e+03     0.0\n",
       "mean    118.0      2.016804e+07     NaN\n",
       "std       0.0      1.009105e+04     NaN\n",
       "min     118.0      2.013080e+07     NaN\n",
       "25%     118.0      2.016070e+07     NaN\n",
       "50%     118.0      2.017073e+07     NaN\n",
       "75%     118.0      2.017123e+07     NaN\n",
       "max     118.0      2.018073e+07     NaN"
      ]
     },
     "execution_count": 11,
     "metadata": {},
     "output_type": "execute_result"
    }
   ],
   "source": [
    "profile[profile.gender.isna()].describe()"
   ]
  },
  {
   "cell_type": "markdown",
   "metadata": {},
   "source": [
    "Note:\n",
    "**Here we can notice that only Profile dataframe has missing values and the percentage is too low, so we probably can drop those missinngs.**"
   ]
  },
  {
   "cell_type": "code",
   "execution_count": 12,
   "metadata": {},
   "outputs": [],
   "source": [
    "u_income_age = profile[profile['income'].isna()]['age'].unique()[0]\n",
    "u_income_count = len(profile[profile['income'].isna()]['age'].unique())\n",
    "u_gender_age = profile[profile['gender'].isna()]['age'].unique()[0]\n",
    "u_gender_count = len(profile[profile['gender'].isna()]['age'].unique())"
   ]
  },
  {
   "cell_type": "code",
   "execution_count": 13,
   "metadata": {},
   "outputs": [
    {
     "name": "stdout",
     "output_type": "stream",
     "text": [
      "Quantity of unique ages: 1   age for missing data at incoming column: 118 \n",
      "Quantity of unique ages: 1   age for missing data at gender column: 118 \n"
     ]
    },
    {
     "data": {
      "text/html": [
       "<div>\n",
       "<style scoped>\n",
       "    .dataframe tbody tr th:only-of-type {\n",
       "        vertical-align: middle;\n",
       "    }\n",
       "\n",
       "    .dataframe tbody tr th {\n",
       "        vertical-align: top;\n",
       "    }\n",
       "\n",
       "    .dataframe thead th {\n",
       "        text-align: right;\n",
       "    }\n",
       "</style>\n",
       "<table border=\"1\" class=\"dataframe\">\n",
       "  <thead>\n",
       "    <tr style=\"text-align: right;\">\n",
       "      <th></th>\n",
       "      <th>age</th>\n",
       "      <th>became_member_on</th>\n",
       "      <th>gender</th>\n",
       "      <th>id</th>\n",
       "      <th>income</th>\n",
       "    </tr>\n",
       "  </thead>\n",
       "  <tbody>\n",
       "    <tr>\n",
       "      <th>0</th>\n",
       "      <td>118</td>\n",
       "      <td>20170212</td>\n",
       "      <td>None</td>\n",
       "      <td>68be06ca386d4c31939f3a4f0e3dd783</td>\n",
       "      <td>NaN</td>\n",
       "    </tr>\n",
       "    <tr>\n",
       "      <th>2</th>\n",
       "      <td>118</td>\n",
       "      <td>20180712</td>\n",
       "      <td>None</td>\n",
       "      <td>38fe809add3b4fcf9315a9694bb96ff5</td>\n",
       "      <td>NaN</td>\n",
       "    </tr>\n",
       "    <tr>\n",
       "      <th>4</th>\n",
       "      <td>118</td>\n",
       "      <td>20170804</td>\n",
       "      <td>None</td>\n",
       "      <td>a03223e636434f42ac4c3df47e8bac43</td>\n",
       "      <td>NaN</td>\n",
       "    </tr>\n",
       "    <tr>\n",
       "      <th>6</th>\n",
       "      <td>118</td>\n",
       "      <td>20170925</td>\n",
       "      <td>None</td>\n",
       "      <td>8ec6ce2a7e7949b1bf142def7d0e0586</td>\n",
       "      <td>NaN</td>\n",
       "    </tr>\n",
       "    <tr>\n",
       "      <th>7</th>\n",
       "      <td>118</td>\n",
       "      <td>20171002</td>\n",
       "      <td>None</td>\n",
       "      <td>68617ca6246f4fbc85e91a2a49552598</td>\n",
       "      <td>NaN</td>\n",
       "    </tr>\n",
       "  </tbody>\n",
       "</table>\n",
       "</div>"
      ],
      "text/plain": [
       "   age  became_member_on gender                                id  income\n",
       "0  118          20170212   None  68be06ca386d4c31939f3a4f0e3dd783     NaN\n",
       "2  118          20180712   None  38fe809add3b4fcf9315a9694bb96ff5     NaN\n",
       "4  118          20170804   None  a03223e636434f42ac4c3df47e8bac43     NaN\n",
       "6  118          20170925   None  8ec6ce2a7e7949b1bf142def7d0e0586     NaN\n",
       "7  118          20171002   None  68617ca6246f4fbc85e91a2a49552598     NaN"
      ]
     },
     "execution_count": 13,
     "metadata": {},
     "output_type": "execute_result"
    }
   ],
   "source": [
    "# here is a prove about how we can drop the values in  profile  dataframe\n",
    "print(f'Quantity of unique ages: {u_income_count}   age for missing data at incoming column: {u_income_age} ')\n",
    "print(f'Quantity of unique ages: {u_gender_count}   age for missing data at gender column: {u_gender_age} ')\n",
    "\n",
    "# the missing values seens to be in both columns at same time\n",
    "profile[profile['gender'].isna()].head()"
   ]
  },
  {
   "cell_type": "markdown",
   "metadata": {},
   "source": [
    "Note: **118 years old isn't a good sign, this data don't looks good. That's why i decided to drop them.**"
   ]
  },
  {
   "cell_type": "code",
   "execution_count": 14,
   "metadata": {},
   "outputs": [
    {
     "name": "stdout",
     "output_type": "stream",
     "text": [
      "age                 0\n",
      "became_member_on    0\n",
      "gender              0\n",
      "id                  0\n",
      "income              0\n",
      "memberdays          0\n",
      "dtype: int64\n"
     ]
    },
    {
     "data": {
      "text/html": [
       "<div>\n",
       "<style scoped>\n",
       "    .dataframe tbody tr th:only-of-type {\n",
       "        vertical-align: middle;\n",
       "    }\n",
       "\n",
       "    .dataframe tbody tr th {\n",
       "        vertical-align: top;\n",
       "    }\n",
       "\n",
       "    .dataframe thead th {\n",
       "        text-align: right;\n",
       "    }\n",
       "</style>\n",
       "<table border=\"1\" class=\"dataframe\">\n",
       "  <thead>\n",
       "    <tr style=\"text-align: right;\">\n",
       "      <th></th>\n",
       "      <th>age</th>\n",
       "      <th>became_member_on</th>\n",
       "      <th>gender</th>\n",
       "      <th>id</th>\n",
       "      <th>income</th>\n",
       "      <th>memberdays</th>\n",
       "    </tr>\n",
       "  </thead>\n",
       "  <tbody>\n",
       "    <tr>\n",
       "      <th>1</th>\n",
       "      <td>55</td>\n",
       "      <td>20170715</td>\n",
       "      <td>F</td>\n",
       "      <td>0610b486422d4921ae7d2bf64640c50b</td>\n",
       "      <td>112000.0</td>\n",
       "      <td>1289</td>\n",
       "    </tr>\n",
       "    <tr>\n",
       "      <th>3</th>\n",
       "      <td>75</td>\n",
       "      <td>20170509</td>\n",
       "      <td>F</td>\n",
       "      <td>78afa995795e4d85b5d9ceeca43f5fef</td>\n",
       "      <td>100000.0</td>\n",
       "      <td>1356</td>\n",
       "    </tr>\n",
       "    <tr>\n",
       "      <th>5</th>\n",
       "      <td>68</td>\n",
       "      <td>20180426</td>\n",
       "      <td>M</td>\n",
       "      <td>e2127556f4f64592b11af22de27a7932</td>\n",
       "      <td>70000.0</td>\n",
       "      <td>1004</td>\n",
       "    </tr>\n",
       "    <tr>\n",
       "      <th>8</th>\n",
       "      <td>65</td>\n",
       "      <td>20180209</td>\n",
       "      <td>M</td>\n",
       "      <td>389bc3fa690240e798340f5a15918d5c</td>\n",
       "      <td>53000.0</td>\n",
       "      <td>1080</td>\n",
       "    </tr>\n",
       "    <tr>\n",
       "      <th>12</th>\n",
       "      <td>58</td>\n",
       "      <td>20171111</td>\n",
       "      <td>M</td>\n",
       "      <td>2eeac8d8feae4a8cad5a6af0499a211d</td>\n",
       "      <td>51000.0</td>\n",
       "      <td>1170</td>\n",
       "    </tr>\n",
       "  </tbody>\n",
       "</table>\n",
       "</div>"
      ],
      "text/plain": [
       "    age  became_member_on gender                                id    income  \\\n",
       "1    55          20170715      F  0610b486422d4921ae7d2bf64640c50b  112000.0   \n",
       "3    75          20170509      F  78afa995795e4d85b5d9ceeca43f5fef  100000.0   \n",
       "5    68          20180426      M  e2127556f4f64592b11af22de27a7932   70000.0   \n",
       "8    65          20180209      M  389bc3fa690240e798340f5a15918d5c   53000.0   \n",
       "12   58          20171111      M  2eeac8d8feae4a8cad5a6af0499a211d   51000.0   \n",
       "\n",
       "    memberdays  \n",
       "1         1289  \n",
       "3         1356  \n",
       "5         1004  \n",
       "8         1080  \n",
       "12        1170  "
      ]
     },
     "execution_count": 14,
     "metadata": {},
     "output_type": "execute_result"
    }
   ],
   "source": [
    "def clean_profile(profile_df):\n",
    "    '''\n",
    "    Data cleaning the profile dataframe\n",
    "    \n",
    "    INPUT:\n",
    "    profile_df - the profile dataframe to be cleaned\n",
    "    \n",
    "    OUTPUT:\n",
    "    profile_df - the cleaned profile dataframe\n",
    "    \n",
    "    '''   \n",
    "    # drop all missing values\n",
    "    profile_df.dropna(inplace=True)\n",
    "    \n",
    "    # the number of days since the user is a member of starbucks\n",
    "    profile_df['memberdays'] = datetime.datetime.today().date() - pd.to_datetime(profile_df['became_member_on'], format='%Y%m%d').dt.date\n",
    "    profile_df['memberdays'] = profile_df['memberdays'].dt.days\n",
    "    \n",
    "    return profile_df\n",
    "\n",
    "profile = clean_profile(profile)\n",
    "print(profile.isna().sum())\n",
    "profile.head()"
   ]
  },
  {
   "cell_type": "code",
   "execution_count": 15,
   "metadata": {},
   "outputs": [
    {
     "data": {
      "image/png": "[encoded data removed]",
      "text/plain": [
       "<Figure size 432x288 with 1 Axes>"
      ]
     },
     "metadata": {
      "needs_background": "light"
     },
     "output_type": "display_data"
    }
   ],
   "source": [
    "h_salary = profile.groupby('gender')['income'].mean()\n",
    "\n",
    "# plot quantity of offer completed by gender\n",
    "fig = plt.figure()\n",
    "ax = fig.add_axes([0,0,1,1])\n",
    "cat = h_salary.index\n",
    "values = h_salary.values\n",
    "ax.bar(cat,values,color=['red', 'blue', 'purple'])\n",
    "ax.set_title('Mean Income by Gender', fontsize=15)\n",
    "plt.xlabel('Gender')\n",
    "plt.ylabel('Income')\n",
    "plt.show()"
   ]
  },
  {
   "cell_type": "code",
   "execution_count": 16,
   "metadata": {},
   "outputs": [],
   "source": [
    "def display_customer_profile():\n",
    "    '''Display customer profile with histograms'''\n",
    "    \n",
    "    # Display Histogram of Customer Age\n",
    "    user_age = profile['age'].plot(kind='hist', bins=20, title='Distribution of Customer Age')\n",
    "    user_age.set_xlabel(\"Customer Age\")\n",
    "       \n",
    "    # Display Histogram of the days being member\n",
    "    plt.figure()\n",
    "    memberdays = profile['memberdays'].plot(kind='hist', bins=50, title='How long did the users become our members?')\n",
    "    memberdays.set_xlabel(\"Days\")\n",
    "    \n",
    "    # Display Histogram of User Income\n",
    "    plt.figure()\n",
    "    user_income = profile['income'].plot(kind='hist', bins=20, title='Distribution of Customer Income')\n",
    "    user_income.set_xlabel(\"Income\")"
   ]
  },
  {
   "cell_type": "code",
   "execution_count": 17,
   "metadata": {},
   "outputs": [
    {
     "data": {
      "image/png": "[encoded data removed]",
      "text/plain": [
       "<Figure size 432x288 with 1 Axes>"
      ]
     },
     "metadata": {
      "needs_background": "light"
     },
     "output_type": "display_data"
    },
    {
     "data": {
      "image/png": "[encoded data removed]",
      "text/plain": [
       "<Figure size 432x288 with 1 Axes>"
      ]
     },
     "metadata": {
      "needs_background": "light"
     },
     "output_type": "display_data"
    },
    {
     "data": {
      "image/png": "[encoded data removed]",
      "text/plain": [
       "<Figure size 432x288 with 1 Axes>"
      ]
     },
     "metadata": {
      "needs_background": "light"
     },
     "output_type": "display_data"
    }
   ],
   "source": [
    "display_customer_profile()"
   ]
  },
  {
   "cell_type": "markdown",
   "metadata": {},
   "source": [
    "# Looking the distribution"
   ]
  },
  {
   "cell_type": "markdown",
   "metadata": {},
   "source": [
    "### Cheking in Portfolio  dataframe\n",
    "\n",
    "***looking for offer type***"
   ]
  },
  {
   "cell_type": "code",
   "execution_count": 18,
   "metadata": {},
   "outputs": [
    {
     "data": {
      "image/png": "[encoded data removed]",
      "text/plain": [
       "<Figure size 432x288 with 1 Axes>"
      ]
     },
     "metadata": {
      "needs_background": "light"
     },
     "output_type": "display_data"
    }
   ],
   "source": [
    "fig = plt.figure()\n",
    "ax = fig.add_axes([0,0,1,1])\n",
    "cat = portfolio.offer_type\n",
    "values = portfolio.duration\n",
    "ax.bar(cat,values)\n",
    "plt.show()"
   ]
  },
  {
   "cell_type": "markdown",
   "metadata": {},
   "source": [
    "Note: **Looking for graph above is possible note that we have an unbalanced class in relation to offer type but discount offer seens to have more time duration**"
   ]
  },
  {
   "cell_type": "code",
   "execution_count": 19,
   "metadata": {},
   "outputs": [
    {
     "name": "stdout",
     "output_type": "stream",
     "text": [
      "This dataframe can cleary show that informational column has no reward involved\n"
     ]
    },
    {
     "data": {
      "text/html": [
       "<div>\n",
       "<style scoped>\n",
       "    .dataframe tbody tr th:only-of-type {\n",
       "        vertical-align: middle;\n",
       "    }\n",
       "\n",
       "    .dataframe tbody tr th {\n",
       "        vertical-align: top;\n",
       "    }\n",
       "\n",
       "    .dataframe thead th {\n",
       "        text-align: right;\n",
       "    }\n",
       "</style>\n",
       "<table border=\"1\" class=\"dataframe\">\n",
       "  <thead>\n",
       "    <tr style=\"text-align: right;\">\n",
       "      <th></th>\n",
       "      <th>duration</th>\n",
       "      <th>difficulty</th>\n",
       "      <th>reward</th>\n",
       "    </tr>\n",
       "    <tr>\n",
       "      <th>offer_type</th>\n",
       "      <th></th>\n",
       "      <th></th>\n",
       "      <th></th>\n",
       "    </tr>\n",
       "  </thead>\n",
       "  <tbody>\n",
       "    <tr>\n",
       "      <th>bogo</th>\n",
       "      <td>6.0</td>\n",
       "      <td>7.50</td>\n",
       "      <td>7.5</td>\n",
       "    </tr>\n",
       "    <tr>\n",
       "      <th>discount</th>\n",
       "      <td>8.5</td>\n",
       "      <td>11.75</td>\n",
       "      <td>3.0</td>\n",
       "    </tr>\n",
       "    <tr>\n",
       "      <th>informational</th>\n",
       "      <td>3.5</td>\n",
       "      <td>0.00</td>\n",
       "      <td>0.0</td>\n",
       "    </tr>\n",
       "  </tbody>\n",
       "</table>\n",
       "</div>"
      ],
      "text/plain": [
       "               duration  difficulty  reward\n",
       "offer_type                                 \n",
       "bogo                6.0        7.50     7.5\n",
       "discount            8.5       11.75     3.0\n",
       "informational       3.5        0.00     0.0"
      ]
     },
     "execution_count": 19,
     "metadata": {},
     "output_type": "execute_result"
    }
   ],
   "source": [
    "mean_by_offer = portfolio.groupby('offer_type')[['duration','difficulty','reward']].mean()\n",
    "print('This dataframe can cleary show that informational column has no reward involved')\n",
    "mean_by_offer"
   ]
  },
  {
   "cell_type": "code",
   "execution_count": 20,
   "metadata": {},
   "outputs": [
    {
     "data": {
      "image/png": "[encoded data removed]",
      "text/plain": [
       "<Figure size 432x288 with 1 Axes>"
      ]
     },
     "metadata": {
      "needs_background": "light"
     },
     "output_type": "display_data"
    }
   ],
   "source": [
    "def sns_plot(x_val , y_val, data_in, title):\n",
    "    '''\n",
    "    INPUT:\n",
    "    x_val -  pd.Series, list or numpy.array to xaxis\n",
    "    y_val -  pd.Series, list or numpy.array to yaxis\n",
    "    \n",
    "    OUTPUT:\n",
    "    Only a Barplot.\n",
    "    '''\n",
    "    sns.barplot(x = x_val,\n",
    "                y = y_val,\n",
    "                data = data_in).set_title(title)\n",
    "    plt.show()\n",
    "\n",
    "sns_plot(mean_by_offer.index , mean_by_offer.reward, mean_by_offer, \"Offer Type mean distribution\")"
   ]
  },
  {
   "cell_type": "markdown",
   "metadata": {},
   "source": [
    "Note: **Looking for graph above it's possible to note that we have an unbalanced class in relation to reward, informational offer type doens't have reward linked.**"
   ]
  },
  {
   "cell_type": "code",
   "execution_count": 21,
   "metadata": {},
   "outputs": [
    {
     "data": {
      "image/png": "[encoded data removed]",
      "text/plain": [
       "<Figure size 432x288 with 1 Axes>"
      ]
     },
     "metadata": {
      "needs_background": "light"
     },
     "output_type": "display_data"
    }
   ],
   "source": [
    "sns_plot(mean_by_offer.index , mean_by_offer.duration, mean_by_offer, \"Offer Type mean duration\")"
   ]
  },
  {
   "cell_type": "code",
   "execution_count": 22,
   "metadata": {},
   "outputs": [
    {
     "data": {
      "text/html": [
       "<div>\n",
       "<style scoped>\n",
       "    .dataframe tbody tr th:only-of-type {\n",
       "        vertical-align: middle;\n",
       "    }\n",
       "\n",
       "    .dataframe tbody tr th {\n",
       "        vertical-align: top;\n",
       "    }\n",
       "\n",
       "    .dataframe thead th {\n",
       "        text-align: right;\n",
       "    }\n",
       "</style>\n",
       "<table border=\"1\" class=\"dataframe\">\n",
       "  <thead>\n",
       "    <tr style=\"text-align: right;\">\n",
       "      <th></th>\n",
       "      <th>channels</th>\n",
       "      <th>difficulty</th>\n",
       "      <th>duration</th>\n",
       "      <th>id</th>\n",
       "      <th>offer_type</th>\n",
       "      <th>reward</th>\n",
       "    </tr>\n",
       "  </thead>\n",
       "  <tbody>\n",
       "    <tr>\n",
       "      <th>0</th>\n",
       "      <td>[email, mobile, social]</td>\n",
       "      <td>10</td>\n",
       "      <td>7</td>\n",
       "      <td>ae264e3637204a6fb9bb56bc8210ddfd</td>\n",
       "      <td>bogo</td>\n",
       "      <td>10</td>\n",
       "    </tr>\n",
       "    <tr>\n",
       "      <th>1</th>\n",
       "      <td>[web, email, mobile, social]</td>\n",
       "      <td>10</td>\n",
       "      <td>5</td>\n",
       "      <td>4d5c57ea9a6940dd891ad53e9dbe8da0</td>\n",
       "      <td>bogo</td>\n",
       "      <td>10</td>\n",
       "    </tr>\n",
       "    <tr>\n",
       "      <th>2</th>\n",
       "      <td>[web, email, mobile]</td>\n",
       "      <td>0</td>\n",
       "      <td>4</td>\n",
       "      <td>3f207df678b143eea3cee63160fa8bed</td>\n",
       "      <td>informational</td>\n",
       "      <td>0</td>\n",
       "    </tr>\n",
       "    <tr>\n",
       "      <th>3</th>\n",
       "      <td>[web, email, mobile]</td>\n",
       "      <td>5</td>\n",
       "      <td>7</td>\n",
       "      <td>9b98b8c7a33c4b65b9aebfe6a799e6d9</td>\n",
       "      <td>bogo</td>\n",
       "      <td>5</td>\n",
       "    </tr>\n",
       "    <tr>\n",
       "      <th>4</th>\n",
       "      <td>[web, email]</td>\n",
       "      <td>20</td>\n",
       "      <td>10</td>\n",
       "      <td>0b1e1539f2cc45b7b9fa7c272da2e1d7</td>\n",
       "      <td>discount</td>\n",
       "      <td>5</td>\n",
       "    </tr>\n",
       "  </tbody>\n",
       "</table>\n",
       "</div>"
      ],
      "text/plain": [
       "                       channels  difficulty  duration  \\\n",
       "0       [email, mobile, social]          10         7   \n",
       "1  [web, email, mobile, social]          10         5   \n",
       "2          [web, email, mobile]           0         4   \n",
       "3          [web, email, mobile]           5         7   \n",
       "4                  [web, email]          20        10   \n",
       "\n",
       "                                 id     offer_type  reward  \n",
       "0  ae264e3637204a6fb9bb56bc8210ddfd           bogo      10  \n",
       "1  4d5c57ea9a6940dd891ad53e9dbe8da0           bogo      10  \n",
       "2  3f207df678b143eea3cee63160fa8bed  informational       0  \n",
       "3  9b98b8c7a33c4b65b9aebfe6a799e6d9           bogo       5  \n",
       "4  0b1e1539f2cc45b7b9fa7c272da2e1d7       discount       5  "
      ]
     },
     "execution_count": 22,
     "metadata": {},
     "output_type": "execute_result"
    }
   ],
   "source": [
    "# Here it's possible to note that the channel column is not good enough, that column must be cleaned. \n",
    "# Since we cannot do many things with values like a list\n",
    "portfolio.head()"
   ]
  },
  {
   "cell_type": "code",
   "execution_count": 23,
   "metadata": {},
   "outputs": [
    {
     "data": {
      "text/html": [
       "<div>\n",
       "<style scoped>\n",
       "    .dataframe tbody tr th:only-of-type {\n",
       "        vertical-align: middle;\n",
       "    }\n",
       "\n",
       "    .dataframe tbody tr th {\n",
       "        vertical-align: top;\n",
       "    }\n",
       "\n",
       "    .dataframe thead th {\n",
       "        text-align: right;\n",
       "    }\n",
       "</style>\n",
       "<table border=\"1\" class=\"dataframe\">\n",
       "  <thead>\n",
       "    <tr style=\"text-align: right;\">\n",
       "      <th></th>\n",
       "      <th>difficulty</th>\n",
       "      <th>duration</th>\n",
       "      <th>id</th>\n",
       "      <th>reward</th>\n",
       "      <th>email</th>\n",
       "      <th>mobile</th>\n",
       "      <th>social</th>\n",
       "      <th>web</th>\n",
       "      <th>bogo</th>\n",
       "      <th>discount</th>\n",
       "      <th>informational</th>\n",
       "    </tr>\n",
       "  </thead>\n",
       "  <tbody>\n",
       "    <tr>\n",
       "      <th>0</th>\n",
       "      <td>10</td>\n",
       "      <td>168</td>\n",
       "      <td>ae264e3637204a6fb9bb56bc8210ddfd</td>\n",
       "      <td>10</td>\n",
       "      <td>1</td>\n",
       "      <td>1</td>\n",
       "      <td>1</td>\n",
       "      <td>0</td>\n",
       "      <td>1</td>\n",
       "      <td>0</td>\n",
       "      <td>0</td>\n",
       "    </tr>\n",
       "    <tr>\n",
       "      <th>1</th>\n",
       "      <td>10</td>\n",
       "      <td>120</td>\n",
       "      <td>4d5c57ea9a6940dd891ad53e9dbe8da0</td>\n",
       "      <td>10</td>\n",
       "      <td>1</td>\n",
       "      <td>1</td>\n",
       "      <td>1</td>\n",
       "      <td>1</td>\n",
       "      <td>1</td>\n",
       "      <td>0</td>\n",
       "      <td>0</td>\n",
       "    </tr>\n",
       "    <tr>\n",
       "      <th>2</th>\n",
       "      <td>0</td>\n",
       "      <td>96</td>\n",
       "      <td>3f207df678b143eea3cee63160fa8bed</td>\n",
       "      <td>0</td>\n",
       "      <td>1</td>\n",
       "      <td>1</td>\n",
       "      <td>0</td>\n",
       "      <td>1</td>\n",
       "      <td>0</td>\n",
       "      <td>0</td>\n",
       "      <td>1</td>\n",
       "    </tr>\n",
       "    <tr>\n",
       "      <th>3</th>\n",
       "      <td>5</td>\n",
       "      <td>168</td>\n",
       "      <td>9b98b8c7a33c4b65b9aebfe6a799e6d9</td>\n",
       "      <td>5</td>\n",
       "      <td>1</td>\n",
       "      <td>1</td>\n",
       "      <td>0</td>\n",
       "      <td>1</td>\n",
       "      <td>1</td>\n",
       "      <td>0</td>\n",
       "      <td>0</td>\n",
       "    </tr>\n",
       "    <tr>\n",
       "      <th>4</th>\n",
       "      <td>20</td>\n",
       "      <td>240</td>\n",
       "      <td>0b1e1539f2cc45b7b9fa7c272da2e1d7</td>\n",
       "      <td>5</td>\n",
       "      <td>1</td>\n",
       "      <td>0</td>\n",
       "      <td>0</td>\n",
       "      <td>1</td>\n",
       "      <td>0</td>\n",
       "      <td>1</td>\n",
       "      <td>0</td>\n",
       "    </tr>\n",
       "  </tbody>\n",
       "</table>\n",
       "</div>"
      ],
      "text/plain": [
       "   difficulty  duration                                id  reward  email  \\\n",
       "0          10       168  ae264e3637204a6fb9bb56bc8210ddfd      10      1   \n",
       "1          10       120  4d5c57ea9a6940dd891ad53e9dbe8da0      10      1   \n",
       "2           0        96  3f207df678b143eea3cee63160fa8bed       0      1   \n",
       "3           5       168  9b98b8c7a33c4b65b9aebfe6a799e6d9       5      1   \n",
       "4          20       240  0b1e1539f2cc45b7b9fa7c272da2e1d7       5      1   \n",
       "\n",
       "   mobile  social  web  bogo  discount  informational  \n",
       "0       1       1    0     1         0              0  \n",
       "1       1       1    1     1         0              0  \n",
       "2       1       0    1     0         0              1  \n",
       "3       1       0    1     1         0              0  \n",
       "4       0       0    1     0         1              0  "
      ]
     },
     "execution_count": 23,
     "metadata": {},
     "output_type": "execute_result"
    }
   ],
   "source": [
    "def clean_portfolio_column(df):\n",
    "    '''\n",
    "    INPUT:\n",
    "    df - dataframe containing channels column\n",
    "\n",
    "    OUTPUT:\n",
    "    df - with channels column fixed (dummies columns created)\n",
    "    '''\n",
    "    # change the duration from day to hour\n",
    "    df['duration'] = df['duration'] * 24\n",
    "    \n",
    "    # apply one hot encoding to offer_type column\n",
    "    offer_type = pd.get_dummies(df['offer_type'])\n",
    "    \n",
    "    # Creating categorical columns in portifolio dataframe based on channel column\n",
    "    df['channels'] = df.channels.astype(str)  \n",
    "    df = pd.concat([df, df['channels'].str.strip('[]').str.replace(\"'\",'').str.get_dummies(', ')], axis=1).drop('channels', axis = 1)\n",
    "    \n",
    "    # drop the channels and offer_type column\n",
    "    df.drop(['offer_type'], axis=1, inplace=True)\n",
    "    \n",
    "    # combine the portfolio and offer_type dataframe to form a cleaned dataframe\n",
    "    cleaned_portfolio = pd.concat([df, offer_type], axis=1, sort=False)\n",
    "    \n",
    "    return cleaned_portfolio\n",
    "\n",
    "cleaned_portfolio = clean_portfolio_column(portfolio)\n",
    "cleaned_portfolio.head()"
   ]
  },
  {
   "cell_type": "markdown",
   "metadata": {},
   "source": [
    "Note: **All rows with offers type of discount and bogo has reward involved and informational doesn't.**"
   ]
  },
  {
   "cell_type": "markdown",
   "metadata": {},
   "source": [
    "### Cheking in Transcript  dataframe"
   ]
  },
  {
   "cell_type": "code",
   "execution_count": 24,
   "metadata": {},
   "outputs": [
    {
     "data": {
      "text/html": [
       "<div>\n",
       "<style scoped>\n",
       "    .dataframe tbody tr th:only-of-type {\n",
       "        vertical-align: middle;\n",
       "    }\n",
       "\n",
       "    .dataframe tbody tr th {\n",
       "        vertical-align: top;\n",
       "    }\n",
       "\n",
       "    .dataframe thead th {\n",
       "        text-align: right;\n",
       "    }\n",
       "</style>\n",
       "<table border=\"1\" class=\"dataframe\">\n",
       "  <thead>\n",
       "    <tr style=\"text-align: right;\">\n",
       "      <th></th>\n",
       "      <th>event</th>\n",
       "      <th>person</th>\n",
       "      <th>time</th>\n",
       "      <th>value</th>\n",
       "    </tr>\n",
       "  </thead>\n",
       "  <tbody>\n",
       "    <tr>\n",
       "      <th>0</th>\n",
       "      <td>offer received</td>\n",
       "      <td>78afa995795e4d85b5d9ceeca43f5fef</td>\n",
       "      <td>0</td>\n",
       "      <td>{'offer id': '9b98b8c7a33c4b65b9aebfe6a799e6d9'}</td>\n",
       "    </tr>\n",
       "    <tr>\n",
       "      <th>1</th>\n",
       "      <td>offer received</td>\n",
       "      <td>a03223e636434f42ac4c3df47e8bac43</td>\n",
       "      <td>0</td>\n",
       "      <td>{'offer id': '0b1e1539f2cc45b7b9fa7c272da2e1d7'}</td>\n",
       "    </tr>\n",
       "    <tr>\n",
       "      <th>2</th>\n",
       "      <td>offer received</td>\n",
       "      <td>e2127556f4f64592b11af22de27a7932</td>\n",
       "      <td>0</td>\n",
       "      <td>{'offer id': '2906b810c7d4411798c6938adc9daaa5'}</td>\n",
       "    </tr>\n",
       "    <tr>\n",
       "      <th>3</th>\n",
       "      <td>offer received</td>\n",
       "      <td>8ec6ce2a7e7949b1bf142def7d0e0586</td>\n",
       "      <td>0</td>\n",
       "      <td>{'offer id': 'fafdcd668e3743c1bb461111dcafc2a4'}</td>\n",
       "    </tr>\n",
       "    <tr>\n",
       "      <th>4</th>\n",
       "      <td>offer received</td>\n",
       "      <td>68617ca6246f4fbc85e91a2a49552598</td>\n",
       "      <td>0</td>\n",
       "      <td>{'offer id': '4d5c57ea9a6940dd891ad53e9dbe8da0'}</td>\n",
       "    </tr>\n",
       "  </tbody>\n",
       "</table>\n",
       "</div>"
      ],
      "text/plain": [
       "            event                            person  time  \\\n",
       "0  offer received  78afa995795e4d85b5d9ceeca43f5fef     0   \n",
       "1  offer received  a03223e636434f42ac4c3df47e8bac43     0   \n",
       "2  offer received  e2127556f4f64592b11af22de27a7932     0   \n",
       "3  offer received  8ec6ce2a7e7949b1bf142def7d0e0586     0   \n",
       "4  offer received  68617ca6246f4fbc85e91a2a49552598     0   \n",
       "\n",
       "                                              value  \n",
       "0  {'offer id': '9b98b8c7a33c4b65b9aebfe6a799e6d9'}  \n",
       "1  {'offer id': '0b1e1539f2cc45b7b9fa7c272da2e1d7'}  \n",
       "2  {'offer id': '2906b810c7d4411798c6938adc9daaa5'}  \n",
       "3  {'offer id': 'fafdcd668e3743c1bb461111dcafc2a4'}  \n",
       "4  {'offer id': '4d5c57ea9a6940dd891ad53e9dbe8da0'}  "
      ]
     },
     "execution_count": 24,
     "metadata": {},
     "output_type": "execute_result"
    }
   ],
   "source": [
    "transcript.head()"
   ]
  },
  {
   "cell_type": "code",
   "execution_count": 25,
   "metadata": {},
   "outputs": [
    {
     "data": {
      "text/plain": [
       "<BarContainer object of 4 artists>"
      ]
     },
     "execution_count": 25,
     "metadata": {},
     "output_type": "execute_result"
    },
    {
     "data": {
      "image/png": "[encoded data removed]",
      "text/plain": [
       "<Figure size 432x288 with 1 Axes>"
      ]
     },
     "metadata": {
      "needs_background": "light"
     },
     "output_type": "display_data"
    }
   ],
   "source": [
    "# ploting event column distribution\n",
    "event_df = transcript.groupby('event').size()\n",
    "plt.bar(event_df.index, event_df.values)"
   ]
  },
  {
   "cell_type": "markdown",
   "metadata": {},
   "source": [
    "Note: **There were more transaction than any type of offer status, about 20% of completed offers in relation to transactions, analyzing offer completed is clear that most of transaction was a natural process and wasn't influenced with offers**"
   ]
  },
  {
   "cell_type": "code",
   "execution_count": 26,
   "metadata": {},
   "outputs": [
    {
     "data": {
      "text/html": [
       "<div>\n",
       "<style scoped>\n",
       "    .dataframe tbody tr th:only-of-type {\n",
       "        vertical-align: middle;\n",
       "    }\n",
       "\n",
       "    .dataframe tbody tr th {\n",
       "        vertical-align: top;\n",
       "    }\n",
       "\n",
       "    .dataframe thead th {\n",
       "        text-align: right;\n",
       "    }\n",
       "</style>\n",
       "<table border=\"1\" class=\"dataframe\">\n",
       "  <thead>\n",
       "    <tr style=\"text-align: right;\">\n",
       "      <th></th>\n",
       "      <th>amount</th>\n",
       "      <th>offer id</th>\n",
       "      <th>offer_id</th>\n",
       "      <th>reward</th>\n",
       "    </tr>\n",
       "  </thead>\n",
       "  <tbody>\n",
       "    <tr>\n",
       "      <th>0</th>\n",
       "      <td>NaN</td>\n",
       "      <td>9b98b8c7a33c4b65b9aebfe6a799e6d9</td>\n",
       "      <td>NaN</td>\n",
       "      <td>NaN</td>\n",
       "    </tr>\n",
       "    <tr>\n",
       "      <th>1</th>\n",
       "      <td>NaN</td>\n",
       "      <td>0b1e1539f2cc45b7b9fa7c272da2e1d7</td>\n",
       "      <td>NaN</td>\n",
       "      <td>NaN</td>\n",
       "    </tr>\n",
       "    <tr>\n",
       "      <th>2</th>\n",
       "      <td>NaN</td>\n",
       "      <td>2906b810c7d4411798c6938adc9daaa5</td>\n",
       "      <td>NaN</td>\n",
       "      <td>NaN</td>\n",
       "    </tr>\n",
       "    <tr>\n",
       "      <th>3</th>\n",
       "      <td>NaN</td>\n",
       "      <td>fafdcd668e3743c1bb461111dcafc2a4</td>\n",
       "      <td>NaN</td>\n",
       "      <td>NaN</td>\n",
       "    </tr>\n",
       "    <tr>\n",
       "      <th>4</th>\n",
       "      <td>NaN</td>\n",
       "      <td>4d5c57ea9a6940dd891ad53e9dbe8da0</td>\n",
       "      <td>NaN</td>\n",
       "      <td>NaN</td>\n",
       "    </tr>\n",
       "  </tbody>\n",
       "</table>\n",
       "</div>"
      ],
      "text/plain": [
       "   amount                          offer id offer_id  reward\n",
       "0     NaN  9b98b8c7a33c4b65b9aebfe6a799e6d9      NaN     NaN\n",
       "1     NaN  0b1e1539f2cc45b7b9fa7c272da2e1d7      NaN     NaN\n",
       "2     NaN  2906b810c7d4411798c6938adc9daaa5      NaN     NaN\n",
       "3     NaN  fafdcd668e3743c1bb461111dcafc2a4      NaN     NaN\n",
       "4     NaN  4d5c57ea9a6940dd891ad53e9dbe8da0      NaN     NaN"
      ]
     },
     "execution_count": 26,
     "metadata": {},
     "output_type": "execute_result"
    }
   ],
   "source": [
    "offer_id = json_normalize(transcript['value'])\n",
    "\n",
    "offer_id.head()"
   ]
  },
  {
   "cell_type": "code",
   "execution_count": 27,
   "metadata": {},
   "outputs": [
    {
     "name": "stdout",
     "output_type": "stream",
     "text": [
      "(167581, 5)\n"
     ]
    }
   ],
   "source": [
    "#json_normalize(data, 'counties')\n",
    "import warnings\n",
    "warnings.filterwarnings('ignore')\n",
    "\n",
    "def clean_transcript(df):\n",
    "    '''\n",
    "    INPUT:\n",
    "    df - A pandas dataframe containing transcript information\n",
    "\n",
    "    OUTPUT:\n",
    "    offer - A pandas dataframe with offer id in a new column\n",
    "    '''\n",
    "    # extract the rows that are related to offer action (e.g. offer received, offer viewed, offer completed)\n",
    "    offer = transcript[transcript['value'].apply(lambda x: True if ('offer id' in x) or ('offer_id' in x) else False)]\n",
    "    \n",
    "    # extract the offer id from value column\n",
    "    offer['offer_id'] = offer['value'].apply(lambda x: x['offer id'] if ('offer id' in x) else x['offer_id'])\n",
    "    \n",
    "    return offer\n",
    "\n",
    "\n",
    "offer = clean_transcript(transcript)\n",
    "print(offer.shape)"
   ]
  },
  {
   "cell_type": "code",
   "execution_count": 28,
   "metadata": {
    "scrolled": true
   },
   "outputs": [
    {
     "data": {
      "text/html": [
       "<div>\n",
       "<style scoped>\n",
       "    .dataframe tbody tr th:only-of-type {\n",
       "        vertical-align: middle;\n",
       "    }\n",
       "\n",
       "    .dataframe tbody tr th {\n",
       "        vertical-align: top;\n",
       "    }\n",
       "\n",
       "    .dataframe thead th {\n",
       "        text-align: right;\n",
       "    }\n",
       "</style>\n",
       "<table border=\"1\" class=\"dataframe\">\n",
       "  <thead>\n",
       "    <tr style=\"text-align: right;\">\n",
       "      <th></th>\n",
       "      <th>event</th>\n",
       "      <th>person</th>\n",
       "      <th>time</th>\n",
       "      <th>value</th>\n",
       "      <th>offer_id</th>\n",
       "    </tr>\n",
       "  </thead>\n",
       "  <tbody>\n",
       "    <tr>\n",
       "      <th>55972</th>\n",
       "      <td>offer received</td>\n",
       "      <td>0009655768c64bdeb2e877511632db8f</td>\n",
       "      <td>168</td>\n",
       "      <td>{'offer id': '5a8bc65990b245e5a138643cd4eb9837'}</td>\n",
       "      <td>5a8bc65990b245e5a138643cd4eb9837</td>\n",
       "    </tr>\n",
       "    <tr>\n",
       "      <th>77705</th>\n",
       "      <td>offer viewed</td>\n",
       "      <td>0009655768c64bdeb2e877511632db8f</td>\n",
       "      <td>192</td>\n",
       "      <td>{'offer id': '5a8bc65990b245e5a138643cd4eb9837'}</td>\n",
       "      <td>5a8bc65990b245e5a138643cd4eb9837</td>\n",
       "    </tr>\n",
       "    <tr>\n",
       "      <th>113605</th>\n",
       "      <td>offer received</td>\n",
       "      <td>0009655768c64bdeb2e877511632db8f</td>\n",
       "      <td>336</td>\n",
       "      <td>{'offer id': '3f207df678b143eea3cee63160fa8bed'}</td>\n",
       "      <td>3f207df678b143eea3cee63160fa8bed</td>\n",
       "    </tr>\n",
       "    <tr>\n",
       "      <th>139992</th>\n",
       "      <td>offer viewed</td>\n",
       "      <td>0009655768c64bdeb2e877511632db8f</td>\n",
       "      <td>372</td>\n",
       "      <td>{'offer id': '3f207df678b143eea3cee63160fa8bed'}</td>\n",
       "      <td>3f207df678b143eea3cee63160fa8bed</td>\n",
       "    </tr>\n",
       "    <tr>\n",
       "      <th>153401</th>\n",
       "      <td>offer received</td>\n",
       "      <td>0009655768c64bdeb2e877511632db8f</td>\n",
       "      <td>408</td>\n",
       "      <td>{'offer id': 'f19421c1d4aa40978ebb69ca19b0e20d'}</td>\n",
       "      <td>f19421c1d4aa40978ebb69ca19b0e20d</td>\n",
       "    </tr>\n",
       "  </tbody>\n",
       "</table>\n",
       "</div>"
      ],
      "text/plain": [
       "                 event                            person  time  \\\n",
       "55972   offer received  0009655768c64bdeb2e877511632db8f   168   \n",
       "77705     offer viewed  0009655768c64bdeb2e877511632db8f   192   \n",
       "113605  offer received  0009655768c64bdeb2e877511632db8f   336   \n",
       "139992    offer viewed  0009655768c64bdeb2e877511632db8f   372   \n",
       "153401  offer received  0009655768c64bdeb2e877511632db8f   408   \n",
       "\n",
       "                                                   value  \\\n",
       "55972   {'offer id': '5a8bc65990b245e5a138643cd4eb9837'}   \n",
       "77705   {'offer id': '5a8bc65990b245e5a138643cd4eb9837'}   \n",
       "113605  {'offer id': '3f207df678b143eea3cee63160fa8bed'}   \n",
       "139992  {'offer id': '3f207df678b143eea3cee63160fa8bed'}   \n",
       "153401  {'offer id': 'f19421c1d4aa40978ebb69ca19b0e20d'}   \n",
       "\n",
       "                                offer_id  \n",
       "55972   5a8bc65990b245e5a138643cd4eb9837  \n",
       "77705   5a8bc65990b245e5a138643cd4eb9837  \n",
       "113605  3f207df678b143eea3cee63160fa8bed  \n",
       "139992  3f207df678b143eea3cee63160fa8bed  \n",
       "153401  f19421c1d4aa40978ebb69ca19b0e20d  "
      ]
     },
     "execution_count": 28,
     "metadata": {},
     "output_type": "execute_result"
    }
   ],
   "source": [
    "warnings.resetwarnings()\n",
    "offer[offer['person'] == '0009655768c64bdeb2e877511632db8f'].head()"
   ]
  },
  {
   "cell_type": "code",
   "execution_count": 29,
   "metadata": {},
   "outputs": [
    {
     "data": {
      "text/plain": [
       "(11986, 1)"
      ]
     },
     "execution_count": 29,
     "metadata": {},
     "output_type": "execute_result"
    }
   ],
   "source": [
    "prof_offer = offer[['event','person','offer_id']].merge(profile, left_on= 'person', right_on='id', how= 'outer').dropna().drop_duplicates()\n",
    "prof_offer_gender = prof_offer[prof_offer['event'] == 'offer completed']['gender'].value_counts()\n",
    "\n",
    "pd.DataFrame(prof_offer[prof_offer['event'] == 'offer completed'].groupby('person').size()).shape"
   ]
  },
  {
   "cell_type": "code",
   "execution_count": 30,
   "metadata": {},
   "outputs": [
    {
     "data": {
      "image/png": "[encoded data removed]",
      "text/plain": [
       "<Figure size 432x288 with 1 Axes>"
      ]
     },
     "metadata": {
      "needs_background": "light"
     },
     "output_type": "display_data"
    }
   ],
   "source": [
    "# plot quantity of offer completed by gender\n",
    "fig = plt.figure()\n",
    "ax = fig.add_axes([0,0,1,1])\n",
    "cat = prof_offer_gender.index\n",
    "values = prof_offer_gender.values\n",
    "ax.bar(cat,values,color=['red', 'blue', 'purple'])\n",
    "ax.set_title('Gender by offer completed', fontsize=15)\n",
    "plt.xlabel('Gender')\n",
    "plt.ylabel('Offer Completed')\n",
    "plt.show()"
   ]
  },
  {
   "cell_type": "markdown",
   "metadata": {},
   "source": [
    "# 4 - Step\n",
    "\n",
    "## Prepare Data to be used on modeling phase"
   ]
  },
  {
   "cell_type": "code",
   "execution_count": 31,
   "metadata": {},
   "outputs": [],
   "source": [
    "def create_df(offer_df, portfolio_df, file_name = 'data_po'):\n",
    "    '''\n",
    "    INPUT:\n",
    "    offer_df -  Dataframe containing dummies of 'event' column\n",
    "    portfolio_df -  Dataframe containing info about offers\n",
    "    file_name - Name of file to be saved as pickle\n",
    "    mtx - if True return a matrix and save a picke file, if Else return a DataFame and save a csv\n",
    "    \n",
    "    OUTPUT:\n",
    "    user_item_matrix - if mtx atribute is set as True  return a dataframe formated as a matrix\n",
    "    user_item_matrix - if mtx atribute is set to False  return a dataframe\n",
    "    ''' \n",
    "    from tqdm.notebook import tqdm_notebook\n",
    "    \n",
    "    # create dataframe with only person , offer_id and event column (this last is empty)\n",
    "    user_item_matrix = offer_df.groupby(['person','offer_id'])['event'].apply(lambda x: np.nan).unstack()\n",
    "    \n",
    "    # drop rows where offer_type are informational\n",
    "    user_item_matrix.drop(list(portfolio_df[portfolio_df['offer_type']=='informational']['id']), axis=1, inplace=True)\n",
    "    \n",
    "   \n",
    "    # fill offer completed collumn based on following coditions: \n",
    "        # if there were offer completed, viewed and received  = 1 (Positive feel about offer)\n",
    "        # if there were't offer completed but had viewed and received  = 0 (Negative feel about offer)\n",
    "        # Otherwise NaN (Didn't view or didn't received offer)\n",
    "    for offer_id in tqdm_notebook(user_item_matrix.columns):\n",
    "\n",
    "        for person in tqdm_notebook(user_item_matrix.index):\n",
    "            events = []\n",
    "\n",
    "            for event in offer_df[(offer_df['offer_id']==offer_id) & (offer_df['person']==person)]['event']:\n",
    "                events.append(event)\n",
    "\n",
    "            if len(events) >= 3:\n",
    "                user_item_matrix.loc[person, offer_id] = 0\n",
    "                for i in range(len(events)-2):\n",
    "\n",
    "                    # check if the transaction sequence is offer received -> offer viewed -> offer completed\n",
    "                    # if yes, we assume the user reacted positively with the offer we provided.\n",
    "                    if (events[i] == 'offer received') & (events[i+1] == 'offer viewed') & (events[i+2] == 'offer completed'):\n",
    "                        user_item_matrix.loc[person, offer_id] += 1\n",
    "\n",
    "            elif len(events) > 0:\n",
    "                user_item_matrix.loc[person, offer_id] = 0\n",
    "\n",
    "     \n",
    "       \n",
    "    # create an pickle from formated as a dataframe\n",
    "    user_item_format = user_item_matrix.unstack()\n",
    "    user_item_format.to_pickle(f'{file_name}_table.pkl')\n",
    "    \n",
    "    return user_item_format"
   ]
  },
  {
   "cell_type": "markdown",
   "metadata": {},
   "source": [
    "***Important note:*** \n",
    "\n",
    "\n",
    "\n",
    " ***To Avoid Using the function 'create_matrix_or_df', since is time consuming, use pickle command instead to get  data processed***\n",
    " \n",
    " \n",
    "The process below may take up to about 90-100 mins to process, if you chose dont to use pickle"
   ]
  },
  {
   "cell_type": "code",
   "execution_count": 43,
   "metadata": {},
   "outputs": [],
   "source": [
    "#data_formated = create_df(offer, portfolio,'data_po')\n",
    "\n",
    "# To Avoid Using the function above, since is time consuming you can use pickle comands below, is the data already preprocessed\n",
    "data_formated = pd.read_pickle(\"data_po_table.pkl\").reset_index().rename(columns = {0 : 'offer_completed'}) # data to be used on Surprise, to read you must add .pkl extension when passing string"
   ]
  },
  {
   "cell_type": "code",
   "execution_count": 44,
   "metadata": {},
   "outputs": [
    {
     "data": {
      "text/html": [
       "<div>\n",
       "<style scoped>\n",
       "    .dataframe tbody tr th:only-of-type {\n",
       "        vertical-align: middle;\n",
       "    }\n",
       "\n",
       "    .dataframe tbody tr th {\n",
       "        vertical-align: top;\n",
       "    }\n",
       "\n",
       "    .dataframe thead th {\n",
       "        text-align: right;\n",
       "    }\n",
       "</style>\n",
       "<table border=\"1\" class=\"dataframe\">\n",
       "  <thead>\n",
       "    <tr style=\"text-align: right;\">\n",
       "      <th></th>\n",
       "      <th>offer_id</th>\n",
       "      <th>person</th>\n",
       "      <th>offer_completed</th>\n",
       "    </tr>\n",
       "  </thead>\n",
       "  <tbody>\n",
       "    <tr>\n",
       "      <th>0</th>\n",
       "      <td>0b1e1539f2cc45b7b9fa7c272da2e1d7</td>\n",
       "      <td>0009655768c64bdeb2e877511632db8f</td>\n",
       "      <td>NaN</td>\n",
       "    </tr>\n",
       "    <tr>\n",
       "      <th>1</th>\n",
       "      <td>0b1e1539f2cc45b7b9fa7c272da2e1d7</td>\n",
       "      <td>00116118485d4dfda04fdbaba9a87b5c</td>\n",
       "      <td>NaN</td>\n",
       "    </tr>\n",
       "    <tr>\n",
       "      <th>2</th>\n",
       "      <td>0b1e1539f2cc45b7b9fa7c272da2e1d7</td>\n",
       "      <td>0011e0d4e6b944f998e987f904e8c1e5</td>\n",
       "      <td>1.0</td>\n",
       "    </tr>\n",
       "    <tr>\n",
       "      <th>3</th>\n",
       "      <td>0b1e1539f2cc45b7b9fa7c272da2e1d7</td>\n",
       "      <td>0020c2b971eb4e9188eac86d93036a77</td>\n",
       "      <td>NaN</td>\n",
       "    </tr>\n",
       "    <tr>\n",
       "      <th>4</th>\n",
       "      <td>0b1e1539f2cc45b7b9fa7c272da2e1d7</td>\n",
       "      <td>0020ccbbb6d84e358d3414a3ff76cffd</td>\n",
       "      <td>NaN</td>\n",
       "    </tr>\n",
       "  </tbody>\n",
       "</table>\n",
       "</div>"
      ],
      "text/plain": [
       "                           offer_id                            person  \\\n",
       "0  0b1e1539f2cc45b7b9fa7c272da2e1d7  0009655768c64bdeb2e877511632db8f   \n",
       "1  0b1e1539f2cc45b7b9fa7c272da2e1d7  00116118485d4dfda04fdbaba9a87b5c   \n",
       "2  0b1e1539f2cc45b7b9fa7c272da2e1d7  0011e0d4e6b944f998e987f904e8c1e5   \n",
       "3  0b1e1539f2cc45b7b9fa7c272da2e1d7  0020c2b971eb4e9188eac86d93036a77   \n",
       "4  0b1e1539f2cc45b7b9fa7c272da2e1d7  0020ccbbb6d84e358d3414a3ff76cffd   \n",
       "\n",
       "   offer_completed  \n",
       "0              NaN  \n",
       "1              NaN  \n",
       "2              1.0  \n",
       "3              NaN  \n",
       "4              NaN  "
      ]
     },
     "execution_count": 44,
     "metadata": {},
     "output_type": "execute_result"
    }
   ],
   "source": [
    "data_formated.head()"
   ]
  },
  {
   "cell_type": "markdown",
   "metadata": {},
   "source": [
    "# 5 - Step\n",
    "\n",
    "## Train, Test and Validation model\n",
    "\n",
    "***The Main goal is to Build a Recommendation System here i decided to use two diferent ways, using surprise package and implement FunkSVD by hand.***"
   ]
  },
  {
   "cell_type": "markdown",
   "metadata": {},
   "source": [
    "# Colaborative Filtering using Scikit Surprise!"
   ]
  },
  {
   "cell_type": "markdown",
   "metadata": {},
   "source": [
    "Note: ***This piece of code above was borrowed from surprise documentation: you can reach the page from here - https://surprise.readthedocs.io/en/stable/FAQ.html***"
   ]
  },
  {
   "cell_type": "code",
   "execution_count": 45,
   "metadata": {},
   "outputs": [],
   "source": [
    "from collections import defaultdict\n",
    "\n",
    "from surprise import SVD\n",
    "from surprise import Dataset\n",
    "\n",
    "\n",
    "def get_top_n(predictions, n=10):\n",
    "    \"\"\"Return the top-N recommendation for each user from a set of predictions.\n",
    "\n",
    "    Args:\n",
    "        predictions(list of Prediction objects): The list of predictions, as\n",
    "            returned by the test method of an algorithm.\n",
    "        n(int): The number of recommendation to output for each user. Default\n",
    "            is 10.\n",
    "\n",
    "    Returns:\n",
    "    A dict where keys are user (raw) ids and values are lists of tuples:\n",
    "        [(raw item id, rating estimation), ...] of size n.\n",
    "    \"\"\"\n",
    "\n",
    "    # First map the predictions to each user.\n",
    "    top_n = defaultdict(list)\n",
    "    for uid, iid, true_r, est, _ in predictions:\n",
    "        top_n[uid].append((iid, est))\n",
    "\n",
    "    # Then sort the predictions for each user and retrieve the k highest ones.\n",
    "    for uid, user_ratings in top_n.items():\n",
    "        user_ratings.sort(key=lambda x: x[1], reverse=True)\n",
    "        top_n[uid] = user_ratings[:n]\n",
    "\n",
    "    return top_n"
   ]
  },
  {
   "cell_type": "code",
   "execution_count": 46,
   "metadata": {},
   "outputs": [
    {
     "data": {
      "text/html": [
       "<div>\n",
       "<style scoped>\n",
       "    .dataframe tbody tr th:only-of-type {\n",
       "        vertical-align: middle;\n",
       "    }\n",
       "\n",
       "    .dataframe tbody tr th {\n",
       "        vertical-align: top;\n",
       "    }\n",
       "\n",
       "    .dataframe thead th {\n",
       "        text-align: right;\n",
       "    }\n",
       "</style>\n",
       "<table border=\"1\" class=\"dataframe\">\n",
       "  <thead>\n",
       "    <tr style=\"text-align: right;\">\n",
       "      <th></th>\n",
       "      <th>index</th>\n",
       "      <th>offer_id</th>\n",
       "      <th>person</th>\n",
       "      <th>offer_completed</th>\n",
       "    </tr>\n",
       "  </thead>\n",
       "  <tbody>\n",
       "    <tr>\n",
       "      <th>2</th>\n",
       "      <td>2</td>\n",
       "      <td>0b1e1539f2cc45b7b9fa7c272da2e1d7</td>\n",
       "      <td>0011e0d4e6b944f998e987f904e8c1e5</td>\n",
       "      <td>1.0</td>\n",
       "    </tr>\n",
       "    <tr>\n",
       "      <th>5</th>\n",
       "      <td>5</td>\n",
       "      <td>0b1e1539f2cc45b7b9fa7c272da2e1d7</td>\n",
       "      <td>003d66b6608740288d6cc97a6903f4f0</td>\n",
       "      <td>0.0</td>\n",
       "    </tr>\n",
       "    <tr>\n",
       "      <th>6</th>\n",
       "      <td>6</td>\n",
       "      <td>0b1e1539f2cc45b7b9fa7c272da2e1d7</td>\n",
       "      <td>00426fe3ffde4c6b9cb9ad6d077a13ea</td>\n",
       "      <td>0.0</td>\n",
       "    </tr>\n",
       "    <tr>\n",
       "      <th>10</th>\n",
       "      <td>10</td>\n",
       "      <td>0b1e1539f2cc45b7b9fa7c272da2e1d7</td>\n",
       "      <td>0056df74b63b4298809f0b375a304cf4</td>\n",
       "      <td>0.0</td>\n",
       "    </tr>\n",
       "    <tr>\n",
       "      <th>11</th>\n",
       "      <td>11</td>\n",
       "      <td>0b1e1539f2cc45b7b9fa7c272da2e1d7</td>\n",
       "      <td>0063def0f9c14bc4805322a488839b32</td>\n",
       "      <td>0.0</td>\n",
       "    </tr>\n",
       "  </tbody>\n",
       "</table>\n",
       "</div>"
      ],
      "text/plain": [
       "    index                          offer_id                            person  \\\n",
       "2       2  0b1e1539f2cc45b7b9fa7c272da2e1d7  0011e0d4e6b944f998e987f904e8c1e5   \n",
       "5       5  0b1e1539f2cc45b7b9fa7c272da2e1d7  003d66b6608740288d6cc97a6903f4f0   \n",
       "6       6  0b1e1539f2cc45b7b9fa7c272da2e1d7  00426fe3ffde4c6b9cb9ad6d077a13ea   \n",
       "10     10  0b1e1539f2cc45b7b9fa7c272da2e1d7  0056df74b63b4298809f0b375a304cf4   \n",
       "11     11  0b1e1539f2cc45b7b9fa7c272da2e1d7  0063def0f9c14bc4805322a488839b32   \n",
       "\n",
       "    offer_completed  \n",
       "2               1.0  \n",
       "5               0.0  \n",
       "6               0.0  \n",
       "10              0.0  \n",
       "11              0.0  "
      ]
     },
     "execution_count": 46,
     "metadata": {},
     "output_type": "execute_result"
    }
   ],
   "source": [
    "# Here we may drop nulls since surprise doesn't handle dataframe with null values\n",
    "data_surprise = pd.DataFrame(data_formated).reset_index().rename(columns= {0 : 'offer_completed'}).dropna()\n",
    "data_surprise.head()"
   ]
  },
  {
   "cell_type": "code",
   "execution_count": 47,
   "metadata": {},
   "outputs": [],
   "source": [
    "from surprise import Reader, Dataset, accuracy\n",
    "from surprise import SVD, SVDpp, KNNBasic, KNNWithMeans, KNNWithZScore, CoClustering\n",
    "from surprise.model_selection import cross_validate, GridSearchCV, train_test_split\n",
    "\n",
    "reader = Reader()\n",
    "data = Dataset.load_from_df(data_surprise[['person', 'offer_id', 'offer_completed']].drop_duplicates(), reader)"
   ]
  },
  {
   "cell_type": "markdown",
   "metadata": {},
   "source": [
    "### Applying Cross Validation on all data to find best model"
   ]
  },
  {
   "cell_type": "markdown",
   "metadata": {},
   "source": [
    "***Important note: this cell below is time consuming.***\n",
    "\n",
    "***This process may take up to  about 50-60 mins to process in udacity workspace***\n",
    "\n",
    "***Took about 5 min on my local machine (=.=) ***"
   ]
  },
  {
   "cell_type": "code",
   "execution_count": 48,
   "metadata": {},
   "outputs": [
    {
     "data": {
      "application/vnd.jupyter.widget-view+json": {
       "model_id": "b30f5739c943446b842ec9f637338516",
       "version_major": 2,
       "version_minor": 0
      },
      "text/plain": [
       "  0%|          | 0/5 [00:00<?, ?it/s]"
      ]
     },
     "metadata": {},
     "output_type": "display_data"
    },
    {
     "name": "stdout",
     "output_type": "stream",
     "text": [
      "Computing the msd similarity matrix...\n",
      "Done computing similarity matrix.\n",
      "Computing the msd similarity matrix...\n",
      "Done computing similarity matrix.\n",
      "Computing the msd similarity matrix...\n",
      "Done computing similarity matrix.\n",
      "Computing the msd similarity matrix...\n",
      "Done computing similarity matrix.\n",
      "Computing the msd similarity matrix...\n",
      "Done computing similarity matrix.\n",
      "Computing the msd similarity matrix...\n",
      "Done computing similarity matrix.\n"
     ]
    }
   ],
   "source": [
    "cv = []\n",
    "# Iterate over all recommender system algorithms\n",
    "for recsys in tqdm_notebook([SVD(), SVDpp(), KNNWithZScore(), CoClustering(),KNNWithMeans()]):\n",
    "    # Perform cross validation\n",
    "    tmp = cross_validate(recsys, data, measures=['RMSE'], cv=3, verbose=False)\n",
    "    cv.append((str(recsys).split(' ')[0].split('.')[-1], tmp['test_rmse'].mean()))\n"
   ]
  },
  {
   "cell_type": "code",
   "execution_count": 58,
   "metadata": {},
   "outputs": [
    {
     "data": {
      "text/html": [
       "<div>\n",
       "<style scoped>\n",
       "    .dataframe tbody tr th:only-of-type {\n",
       "        vertical-align: middle;\n",
       "    }\n",
       "\n",
       "    .dataframe tbody tr th {\n",
       "        vertical-align: top;\n",
       "    }\n",
       "\n",
       "    .dataframe thead th {\n",
       "        text-align: right;\n",
       "    }\n",
       "</style>\n",
       "<table border=\"1\" class=\"dataframe\">\n",
       "  <thead>\n",
       "    <tr style=\"text-align: right;\">\n",
       "      <th></th>\n",
       "      <th>RecSys</th>\n",
       "      <th>RMSE</th>\n",
       "    </tr>\n",
       "  </thead>\n",
       "  <tbody>\n",
       "    <tr>\n",
       "      <th>0</th>\n",
       "      <td>SVD</td>\n",
       "      <td>0.799192</td>\n",
       "    </tr>\n",
       "    <tr>\n",
       "      <th>1</th>\n",
       "      <td>SVDpp</td>\n",
       "      <td>0.799195</td>\n",
       "    </tr>\n",
       "    <tr>\n",
       "      <th>2</th>\n",
       "      <td>KNNWithZScore</td>\n",
       "      <td>0.816945</td>\n",
       "    </tr>\n",
       "    <tr>\n",
       "      <th>3</th>\n",
       "      <td>CoClustering</td>\n",
       "      <td>0.835607</td>\n",
       "    </tr>\n",
       "    <tr>\n",
       "      <th>4</th>\n",
       "      <td>KNNWithMeans</td>\n",
       "      <td>0.813137</td>\n",
       "    </tr>\n",
       "  </tbody>\n",
       "</table>\n",
       "</div>"
      ],
      "text/plain": [
       "          RecSys      RMSE\n",
       "0            SVD  0.799192\n",
       "1          SVDpp  0.799195\n",
       "2  KNNWithZScore  0.816945\n",
       "3   CoClustering  0.835607\n",
       "4   KNNWithMeans  0.813137"
      ]
     },
     "execution_count": 58,
     "metadata": {},
     "output_type": "execute_result"
    }
   ],
   "source": [
    "# Visualize best models in a datafram format\n",
    "best_cv= pd.DataFrame(cv, columns=['RecSys', 'RMSE'])\n",
    "best_cv"
   ]
  },
  {
   "cell_type": "code",
   "execution_count": 50,
   "metadata": {},
   "outputs": [],
   "source": [
    "# Create easy access to models\n",
    "model_dict = {'SVD': SVD(), 'SVDpp': SVDpp(), 'KNNWithZScore': KNNWithZScore(),'CoClustering': CoClustering(), 'KNNWithMeans':KNNWithMeans()}\n",
    "\n",
    "# Get the best name model based on RMSE\n",
    "model_cv = best_cv[best_cv['RMSE'] == best_cv['RMSE'].min()]['RecSys'].values[0]"
   ]
  },
  {
   "cell_type": "code",
   "execution_count": 51,
   "metadata": {},
   "outputs": [
    {
     "name": "stdout",
     "output_type": "stream",
     "text": [
      "Number of users:  16480 \n",
      "\n",
      "Number of items:  8 \n",
      "\n"
     ]
    }
   ],
   "source": [
    "# Spliting Train and test set\n",
    "trainset, testset = train_test_split(data, test_size=0.20)\n",
    "print('Number of users: ', trainset.n_users, '\\n')\n",
    "print('Number of items: ', trainset.n_items, '\\n')"
   ]
  },
  {
   "cell_type": "code",
   "execution_count": 52,
   "metadata": {},
   "outputs": [
    {
     "data": {
      "text/html": [
       "<div>\n",
       "<style scoped>\n",
       "    .dataframe tbody tr th:only-of-type {\n",
       "        vertical-align: middle;\n",
       "    }\n",
       "\n",
       "    .dataframe tbody tr th {\n",
       "        vertical-align: top;\n",
       "    }\n",
       "\n",
       "    .dataframe thead th {\n",
       "        text-align: right;\n",
       "    }\n",
       "</style>\n",
       "<table border=\"1\" class=\"dataframe\">\n",
       "  <thead>\n",
       "    <tr style=\"text-align: right;\">\n",
       "      <th></th>\n",
       "      <th>Uid</th>\n",
       "      <th>predictions</th>\n",
       "    </tr>\n",
       "  </thead>\n",
       "  <tbody>\n",
       "    <tr>\n",
       "      <th>0</th>\n",
       "      <td>0009655768c64bdeb2e877511632db8f</td>\n",
       "      <td>1</td>\n",
       "    </tr>\n",
       "    <tr>\n",
       "      <th>11290</th>\n",
       "      <td>a93cb9e04f5a4ffa8beeb6e6a51333ca</td>\n",
       "      <td>1</td>\n",
       "    </tr>\n",
       "    <tr>\n",
       "      <th>11276</th>\n",
       "      <td>a9012cc8c7d94d2aae450ea4c314d394</td>\n",
       "      <td>1</td>\n",
       "    </tr>\n",
       "    <tr>\n",
       "      <th>11277</th>\n",
       "      <td>a9035280036b4e21bfe017153319c1b3</td>\n",
       "      <td>1</td>\n",
       "    </tr>\n",
       "    <tr>\n",
       "      <th>11278</th>\n",
       "      <td>a906be760afd4edb815302cab24a60d6</td>\n",
       "      <td>1</td>\n",
       "    </tr>\n",
       "  </tbody>\n",
       "</table>\n",
       "</div>"
      ],
      "text/plain": [
       "                                    Uid  predictions\n",
       "0      0009655768c64bdeb2e877511632db8f            1\n",
       "11290  a93cb9e04f5a4ffa8beeb6e6a51333ca            1\n",
       "11276  a9012cc8c7d94d2aae450ea4c314d394            1\n",
       "11277  a9035280036b4e21bfe017153319c1b3            1\n",
       "11278  a906be760afd4edb815302cab24a60d6            1"
      ]
     },
     "execution_count": 52,
     "metadata": {},
     "output_type": "execute_result"
    }
   ],
   "source": [
    "unique_user_id = data_surprise['person'].unique()\n",
    "\n",
    "# get the list of the ids that the userid has rated\n",
    "unique_item_ids = data_surprise.loc[data_surprise['person']=='747f706b685144b29bbc8a0f209432ec', 'offer_id']\n",
    "\n",
    "# remove the rated offers for the recommendations\n",
    "offers_to_predict = np.setdiff1d(unique_user_id, unique_item_ids)\n",
    "\n",
    "# fit best model in cross validation\n",
    "algo = model_dict[model_cv]\n",
    "algo.fit(data.build_full_trainset())\n",
    "my_recs = []\n",
    "\n",
    "# get all offers of a specifc user id\n",
    "for iid in offers_to_predict:\n",
    "    my_recs.append((iid, algo.predict(uid='747f706b685144b29bbc8a0f209432ec',iid=iid).est))\n",
    "    \n",
    "\n",
    "# Making a dataframe to easy vizualize wich one top similar users\n",
    "top_users_sim = pd.DataFrame(my_recs, columns=['Uid', 'predictions']).sort_values('predictions', ascending=False).head(8)\n",
    "top_users_sim.head()"
   ]
  },
  {
   "cell_type": "code",
   "execution_count": 53,
   "metadata": {},
   "outputs": [
    {
     "data": {
      "text/html": [
       "<div>\n",
       "<style scoped>\n",
       "    .dataframe tbody tr th:only-of-type {\n",
       "        vertical-align: middle;\n",
       "    }\n",
       "\n",
       "    .dataframe tbody tr th {\n",
       "        vertical-align: top;\n",
       "    }\n",
       "\n",
       "    .dataframe thead th {\n",
       "        text-align: right;\n",
       "    }\n",
       "</style>\n",
       "<table border=\"1\" class=\"dataframe\">\n",
       "  <thead>\n",
       "    <tr style=\"text-align: right;\">\n",
       "      <th></th>\n",
       "      <th>age</th>\n",
       "      <th>became_member_on</th>\n",
       "      <th>gender</th>\n",
       "      <th>id</th>\n",
       "      <th>income</th>\n",
       "      <th>memberdays</th>\n",
       "    </tr>\n",
       "  </thead>\n",
       "  <tbody>\n",
       "    <tr>\n",
       "      <th>1431</th>\n",
       "      <td>19</td>\n",
       "      <td>20150824</td>\n",
       "      <td>M</td>\n",
       "      <td>a906c9eb943e4fbab2655d893a372705</td>\n",
       "      <td>46000.0</td>\n",
       "      <td>1980</td>\n",
       "    </tr>\n",
       "    <tr>\n",
       "      <th>3793</th>\n",
       "      <td>33</td>\n",
       "      <td>20170421</td>\n",
       "      <td>M</td>\n",
       "      <td>0009655768c64bdeb2e877511632db8f</td>\n",
       "      <td>72000.0</td>\n",
       "      <td>1374</td>\n",
       "    </tr>\n",
       "    <tr>\n",
       "      <th>6674</th>\n",
       "      <td>31</td>\n",
       "      <td>20130915</td>\n",
       "      <td>M</td>\n",
       "      <td>a9035280036b4e21bfe017153319c1b3</td>\n",
       "      <td>58000.0</td>\n",
       "      <td>2688</td>\n",
       "    </tr>\n",
       "    <tr>\n",
       "      <th>9744</th>\n",
       "      <td>76</td>\n",
       "      <td>20170823</td>\n",
       "      <td>M</td>\n",
       "      <td>a90cad5df2e44266abbea4736c061ec7</td>\n",
       "      <td>86000.0</td>\n",
       "      <td>1250</td>\n",
       "    </tr>\n",
       "    <tr>\n",
       "      <th>10738</th>\n",
       "      <td>58</td>\n",
       "      <td>20171204</td>\n",
       "      <td>M</td>\n",
       "      <td>a90ef297656f4150af47cd391adf276a</td>\n",
       "      <td>39000.0</td>\n",
       "      <td>1147</td>\n",
       "    </tr>\n",
       "    <tr>\n",
       "      <th>11952</th>\n",
       "      <td>35</td>\n",
       "      <td>20180531</td>\n",
       "      <td>F</td>\n",
       "      <td>a906be760afd4edb815302cab24a60d6</td>\n",
       "      <td>65000.0</td>\n",
       "      <td>969</td>\n",
       "    </tr>\n",
       "    <tr>\n",
       "      <th>14994</th>\n",
       "      <td>40</td>\n",
       "      <td>20170210</td>\n",
       "      <td>M</td>\n",
       "      <td>a93cb9e04f5a4ffa8beeb6e6a51333ca</td>\n",
       "      <td>41000.0</td>\n",
       "      <td>1444</td>\n",
       "    </tr>\n",
       "  </tbody>\n",
       "</table>\n",
       "</div>"
      ],
      "text/plain": [
       "       age  became_member_on gender                                id  \\\n",
       "1431    19          20150824      M  a906c9eb943e4fbab2655d893a372705   \n",
       "3793    33          20170421      M  0009655768c64bdeb2e877511632db8f   \n",
       "6674    31          20130915      M  a9035280036b4e21bfe017153319c1b3   \n",
       "9744    76          20170823      M  a90cad5df2e44266abbea4736c061ec7   \n",
       "10738   58          20171204      M  a90ef297656f4150af47cd391adf276a   \n",
       "11952   35          20180531      F  a906be760afd4edb815302cab24a60d6   \n",
       "14994   40          20170210      M  a93cb9e04f5a4ffa8beeb6e6a51333ca   \n",
       "\n",
       "        income  memberdays  \n",
       "1431   46000.0        1980  \n",
       "3793   72000.0        1374  \n",
       "6674   58000.0        2688  \n",
       "9744   86000.0        1250  \n",
       "10738  39000.0        1147  \n",
       "11952  65000.0         969  \n",
       "14994  41000.0        1444  "
      ]
     },
     "execution_count": 53,
     "metadata": {},
     "output_type": "execute_result"
    }
   ],
   "source": [
    "# the most similar user\n",
    "common_elements = list(np.intersect1d(list(top_users_sim['Uid']), list(profile['id'])))\n",
    "\n",
    "profile[profile['id'].isin(common_elements)]"
   ]
  },
  {
   "cell_type": "markdown",
   "metadata": {},
   "source": [
    "### Applying Grid Search in best model"
   ]
  },
  {
   "cell_type": "markdown",
   "metadata": {},
   "source": [
    "***Important note:*** \n",
    "\n",
    "   ***this cell is time consuming, with those params i couldn't beat Surprise CV, you can chose less combinations in 'n_factors', 'n_epochs', 'lr_all' and 'reg_all'. If you do it probably will be faster, but still won't beat Built-in Cross Validation of Surprise Lib.*** \n",
    "    \n",
    "   **This process may take up to  2 hour to process on udacity workspace**"
   ]
  },
  {
   "cell_type": "code",
   "execution_count": 54,
   "metadata": {},
   "outputs": [
    {
     "name": "stdout",
     "output_type": "stream",
     "text": [
      "SVD\n"
     ]
    }
   ],
   "source": [
    "print(model_cv)"
   ]
  },
  {
   "cell_type": "code",
   "execution_count": 55,
   "metadata": {},
   "outputs": [
    {
     "name": "stdout",
     "output_type": "stream",
     "text": [
      "RMSE: 0.7985\n",
      "0.7985225298310057\n"
     ]
    }
   ],
   "source": [
    "# Initialize Grid Search\n",
    "param_grid = {'n_factors': [4,8,15],'n_epochs': [15,30], 'lr_all': [0.002, 0.005,0.01],'reg_all':[0.02,0.1,0.4]}\n",
    "gs = GridSearchCV(SVD, param_grid, measures=['rmse'], cv=3)\n",
    "gs.fit(data)\n",
    "\n",
    "# Get best parameters for RMSE metric\n",
    "params = gs.best_params['rmse']\n",
    "\n",
    "# Set parameters at best model from cross validation\n",
    "model_tuned = SVD(n_factors=params['n_factors'], n_epochs=params['n_epochs'],lr_all=params['lr_all'], reg_all=params['reg_all'])\n",
    "\n",
    "# Fit and train the model with best params\n",
    "model_tuned.fit(trainset)\n",
    "predictions = model_tuned.test(testset)\n",
    "\n",
    "print(accuracy.rmse(predictions))"
   ]
  },
  {
   "cell_type": "markdown",
   "metadata": {},
   "source": [
    "***Geting top N Offer recommendations***"
   ]
  },
  {
   "cell_type": "code",
   "execution_count": 59,
   "metadata": {},
   "outputs": [],
   "source": [
    "# Get top N predicitions for users in test set\n",
    "top_n = get_top_n(predictions, n=5)\n",
    "my_recs = {}\n",
    "\n",
    "# Print the recommended items for each user\n",
    "for uid, user_ratings in top_n.items():\n",
    "    recs = [iid for (iid, _) in user_ratings]\n",
    "    my_recs[uid] = recs\n",
    "    #print(f'User : {uid} \\n------> recommendation: {recs}')\n",
    "    "
   ]
  },
  {
   "cell_type": "code",
   "execution_count": 69,
   "metadata": {},
   "outputs": [
    {
     "data": {
      "text/plain": [
       "['4d5c57ea9a6940dd891ad53e9dbe8da0', '0b1e1539f2cc45b7b9fa7c272da2e1d7']"
      ]
     },
     "execution_count": 69,
     "metadata": {},
     "output_type": "execute_result"
    }
   ],
   "source": [
    "# Check Recommendation for an specific user\n",
    "my_recs['04a19ef08c9c4648a587d64ff72bf6df']"
   ]
  },
  {
   "cell_type": "markdown",
   "metadata": {},
   "source": [
    "# Model Discuss"
   ]
  },
  {
   "cell_type": "markdown",
   "metadata": {},
   "source": [
    "***Here we was unable to make more than 3 prediction per user, this means that the data set is very sparse and we dont have so many data with a good amount of offers completed or at least received and viwed, evaluating the Surprise we got an RMSE of 0.7991 for user Similarity when using built-in Cross Validation, but with Grid Search  we didn't but probably can reach better results but its still time consuming.***\n",
    "\n",
    "***Looking for compare with other works like  this one: https://github.com/fo0oze18/starbucks_challenge/blob/master/Starbucks_Capstone_notebook.ipynb\n",
    "In general this aproach with surprise seens to perform poorly than modeling by hand. This approach at least can make more than 3 predictions per user, and new or few records users can get ranked based recommendation.***"
   ]
  },
  {
   "cell_type": "markdown",
   "metadata": {},
   "source": [
    "# Conclusions"
   ]
  },
  {
   "cell_type": "markdown",
   "metadata": {},
   "source": [
    " ***This project was a huge challenge, to implement the model at hand it was very difficult in particular to make conditions when creating a base dataframe, once the processing time was the Gap, after that the understanding of the surprise library took some time. What really made me very happy was the know that the model can be improved by adding other approachs and that we can get a model realy fast, the RMSE of 0.799192 we were able to get with default cross-validation in SVD model, thus we could get better results with GridSearchCV, 0.7985 of RMSE. This made me so happy because it was the metric chosen. ***\n",
    "\n",
    " **Of all the models used to create the recommendation system, it was possible to notice that the SVD had the best performance both using cross-validation with the surprise libraryd. The surprise  librabry is a goood choice, which is very interesting for fast projects due to its similarity with the sci-kit learn, easily usable and implementable.**\n",
    "\n",
    " **However, it is possible to realize that he has his shortcomings and difficulties, the recommendation returns the most similar users and it is necessary to carry out a further treatment to find the recommendations, another point is that many users had few recommendations this is due to the low amount of rates user or even the lack of records for this user.\n",
    "On the other hand, when implementing a model manually, you are free to make changes and create a more generalizable model, combining several approaches in one system.**\n",
    "\n",
    " **Prossible model improvement:**\n",
    " \n",
    "    - For unknow users mus be implemented Ranked based approach or content based.\n",
    "    - by decreasing data sparsity, since there are few records in which there is actually a positive or negative connotation.\n",
    "    - Use hyperparameter tuning with gridSerchCV with more time (increase the number of options).\n",
    "    - Clustering by gender and age, before training the model\n",
    "    - A / B testing to improve the impact of recommendations\n",
    "\n",
    "\n",
    " **Next steps:**  \n",
    "\n",
    " This work can only be a gateway for the implementation of other prediction systems such as:\n",
    "\n",
    "    - forecast the amount of financial return related to advertising \n",
    "    - more effective grouping of advertisements according to gender and age\n",
    "    - inventory forcasting\n",
    "        \n",
    "        \n",
    "\n",
    "\n"
   ]
  },
  {
   "cell_type": "code",
   "execution_count": null,
   "metadata": {},
   "outputs": [],
   "source": []
  }
 ],
 "metadata": {
  "kernelspec": {
   "display_name": "Python 3",
   "language": "python",
   "name": "python3"
  },
  "language_info": {
   "codemirror_mode": {
    "name": "ipython",
    "version": 3
   },
   "file_extension": ".py",
   "mimetype": "text/x-python",
   "name": "python",
   "nbconvert_exporter": "python",
   "pygments_lexer": "ipython3",
   "version": "3.7.6"
  }
 },
 "nbformat": 4,
 "nbformat_minor": 2
}
